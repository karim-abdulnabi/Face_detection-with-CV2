{
 "cells": [
  {
   "cell_type": "code",
   "execution_count": 1,
   "id": "e8aa5fda",
   "metadata": {},
   "outputs": [],
   "source": [
    "import cv2 as cv"
   ]
  },
  {
   "cell_type": "code",
   "execution_count": 2,
   "id": "e5a04c2a",
   "metadata": {},
   "outputs": [],
   "source": [
    "face_cascade = cv.CascadeClassifier(\"C:/Users/USER_PC_SA/anaconda1/Lib/site-packages/cv2/data/haarcascade_frontalface_default.xml\")\n",
    "eye_cascade = cv.CascadeClassifier(\"C:/Users/USER_PC_SA/anaconda1/Lib/site-packages/cv2/data/haarcascade_eye.xml\")\n",
    "cap = cv.VideoCapture(0)\n",
    "while cap.isOpened():\n",
    "    _, img = cap.read()\n",
    "    gray = cv.cvtColor(img , cv.COLOR_BGR2GRAY)\n",
    "    faces = face_cascade.detectMultiScale(gray , 1.1 , 4)\n",
    "    for (x , y , w , h ) in faces :\n",
    "        cv.rectangle(img , (x , y) , (x+w , y+h) , (255 , 0 , 0) , 3)\n",
    "        cv.putText(img , \"Face\" , (x , y-4) , cv.FONT_HERSHEY_DUPLEX , 1 , (255 , 255 , 255) , 2)\n",
    "        cv.imshow(\"img\" , img)\n",
    "        roi_gray = gray[y:y+h , x:x+w]\n",
    "        roi_color = img[y:y+h , x:x+w]\n",
    "        eyes = eye_cascade.detectMultiScale(gray , 2.7 , 4)\n",
    "        for (ex , ey , ew , eh) in eyes:\n",
    "            cv.rectangle(img , (ex , ey) ,(ex+ew , ey+eh) , (0 , 255 , 0) , 5)\n",
    "            cv.putText(img , \"Eye\" , (ex,ey-3) , cv.FONT_HERSHEY_DUPLEX , 0.8 , (255 , 255 , 255) , 2)\n",
    "    if cv.waitKey(1) == ord(\"q\"):\n",
    "        cv.destroyAllWindows()\n",
    "        break\n",
    "cap.release()\n",
    "cv.destroyAllWindows()"
   ]
  },
  {
   "cell_type": "code",
   "execution_count": null,
   "id": "c5eae15c",
   "metadata": {},
   "outputs": [],
   "source": []
  },
  {
   "cell_type": "code",
   "execution_count": null,
   "id": "d2f0b442",
   "metadata": {},
   "outputs": [],
   "source": []
  },
  {
   "cell_type": "code",
   "execution_count": null,
   "id": "7d5c2a4c",
   "metadata": {},
   "outputs": [],
   "source": []
  },
  {
   "cell_type": "code",
   "execution_count": null,
   "id": "aea719d4",
   "metadata": {},
   "outputs": [],
   "source": []
  }
 ],
 "metadata": {
  "kernelspec": {
   "display_name": "Python 3",
   "language": "python",
   "name": "python3"
  },
  "language_info": {
   "codemirror_mode": {
    "name": "ipython",
    "version": 3
   },
   "file_extension": ".py",
   "mimetype": "text/x-python",
   "name": "python",
   "nbconvert_exporter": "python",
   "pygments_lexer": "ipython3",
   "version": "3.8.8"
  },
  "varInspector": {
   "cols": {
    "lenName": 16,
    "lenType": 16,
    "lenVar": 40
   },
   "kernels_config": {
    "python": {
     "delete_cmd_postfix": "",
     "delete_cmd_prefix": "del ",
     "library": "var_list.py",
     "varRefreshCmd": "print(var_dic_list())"
    },
    "r": {
     "delete_cmd_postfix": ") ",
     "delete_cmd_prefix": "rm(",
     "library": "var_list.r",
     "varRefreshCmd": "cat(var_dic_list()) "
    }
   },
   "types_to_exclude": [
    "module",
    "function",
    "builtin_function_or_method",
    "instance",
    "_Feature"
   ],
   "window_display": false
  }
 },
 "nbformat": 4,
 "nbformat_minor": 5
}

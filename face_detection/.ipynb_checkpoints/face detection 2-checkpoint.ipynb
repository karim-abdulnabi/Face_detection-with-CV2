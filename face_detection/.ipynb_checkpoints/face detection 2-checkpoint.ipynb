{
 "cells": [
  {
   "cell_type": "code",
   "execution_count": 3,
   "id": "7e836d49",
   "metadata": {},
   "outputs": [],
   "source": [
    "import cv2 as cv"
   ]
  },
  {
   "cell_type": "code",
   "execution_count": 4,
   "id": "674239cc",
   "metadata": {},
   "outputs": [],
   "source": [
    "cap = cv.VideoCapture(0)\n",
    "while True :\n",
    "    ret , frame = cap.read()\n",
    "    if ret is False :\n",
    "        break\n",
    "        \n",
    "    roi = frame[ : ,  : ]\n",
    "    rows , cols , _ = roi.shape\n",
    "    gray_roi = cv.cvtColor(roi , cv.COLOR_BGR2GRAY)\n",
    "    gray_roi = cv.GaussianBlur(gray_roi ,(7,7) , 0)\n",
    "    \n",
    "    _ , threshold = cv.threshold(gray_roi , 2 , 255 , cv.THRESH_BINARY_INV)\n",
    "    contours , _ = cv.findContours(threshold , cv.RETR_TREE , cv.CHAIN_APPROX_SIMPLE)\n",
    "    contour = sorted(contours , key=lambda x : cv.contourArea(x) , reverse=True)\n",
    "    \n",
    "    for cnt in contour:\n",
    "        (x , y , w , h ) = cv.boundingRect(cnt)\n",
    "        \n",
    "        cv.rectangle(roi , (x , y) , (x+w , y+h) , (255 , 0 , 0), 2)\n",
    "        cv.line(roi , (x+int(w/2) , 0) , (x + int(w/2) , rows) , (0 , 255 , 0) ,2)\n",
    "        cv.line(roi , (0 , y +int(h/2) ) ,(cols , y + int(h/2)) , (0 , 255 ,  0) , 2)\n",
    "        break\n",
    "        \n",
    "    #cv.imshow(\"gray\" , gray_roi)\n",
    "    cv.imshow(\"roi\" , roi)\n",
    "    if cv.waitKey(20) & 0xFF == ord(\"k\"):\n",
    "        break\n",
    "cap.release()        \n",
    "cv.destroyAllWindows()        "
   ]
  },
  {
   "cell_type": "code",
   "execution_count": null,
   "id": "05f575ab",
   "metadata": {},
   "outputs": [],
   "source": []
  },
  {
   "cell_type": "code",
   "execution_count": null,
   "id": "7f9ccd41",
   "metadata": {},
   "outputs": [],
   "source": []
  }
 ],
 "metadata": {
  "kernelspec": {
   "display_name": "Python 3",
   "language": "python",
   "name": "python3"
  },
  "language_info": {
   "codemirror_mode": {
    "name": "ipython",
    "version": 3
   },
   "file_extension": ".py",
   "mimetype": "text/x-python",
   "name": "python",
   "nbconvert_exporter": "python",
   "pygments_lexer": "ipython3",
   "version": "3.8.8"
  },
  "varInspector": {
   "cols": {
    "lenName": 16,
    "lenType": 16,
    "lenVar": 40
   },
   "kernels_config": {
    "python": {
     "delete_cmd_postfix": "",
     "delete_cmd_prefix": "del ",
     "library": "var_list.py",
     "varRefreshCmd": "print(var_dic_list())"
    },
    "r": {
     "delete_cmd_postfix": ") ",
     "delete_cmd_prefix": "rm(",
     "library": "var_list.r",
     "varRefreshCmd": "cat(var_dic_list()) "
    }
   },
   "types_to_exclude": [
    "module",
    "function",
    "builtin_function_or_method",
    "instance",
    "_Feature"
   ],
   "window_display": false
  }
 },
 "nbformat": 4,
 "nbformat_minor": 5
}

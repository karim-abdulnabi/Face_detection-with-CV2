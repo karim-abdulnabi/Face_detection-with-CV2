{
 "cells": [
  {
   "cell_type": "code",
   "execution_count": 4,
   "id": "f82bd164",
   "metadata": {},
   "outputs": [],
   "source": [
    "import cv2 as cv\n",
    "import mediapipe as mp\n",
    "import time "
   ]
  },
  {
   "cell_type": "code",
   "execution_count": 10,
   "id": "53997274",
   "metadata": {},
   "outputs": [],
   "source": [
    "result = cv.VideoWriter(\"hadlandmarkes.avi\" , cv.VideoWriter_fourcc(*\"XVID\") , 30 , (640 , 480))\n",
    "\n",
    "cap = cv.VideoCapture(0)\n",
    "\n",
    "mphands = mp.solutions.hands\n",
    "hands = mphands.Hands()\n",
    "mpDraw = mp.solutions.drawing_utils\n",
    "\n",
    "pTime = 0\n",
    "cTime = 0\n",
    "\n",
    "while True:\n",
    "    _ , img = cap.read()\n",
    "    imgRGB = cv.cvtColor(img , cv.COLOR_BGR2RGB)\n",
    "    results = hands.process(imgRGB)\n",
    "   # print (results.multi_hand_landmarks)\n",
    "    if results.multi_hand_landmarks:\n",
    "        for handLms in results.multi_hand_landmarks:\n",
    "            for idd , lm in enumerate(handLms.landmark):\n",
    "                #print(idd , lm)\n",
    "                h , w ,c = img.shape\n",
    "                cx , xy = int(lm.x*w) , int(lm.y*h)\n",
    "                if idd == 0:\n",
    "                    cv.circle(img , (cx , xy ) , 9 , (255 , 0 ,0 ) , cv.FILLED)\n",
    "            mpDraw.draw_landmarks(img , handLms , mphands.HAND_CONNECTIONS)\n",
    "    cTime = time.time()\n",
    "    fps = 1/ (cTime - pTime)\n",
    "    pTime = cTime\n",
    "    cv.putText(imgRGB , str(int(fps)) , (15 , 60) , cv.FONT_HERSHEY_PLAIN , 3 , (255 , 0 , 0))\n",
    "    result.write(img)\n",
    "    cv.imshow(\"frame\" , img)\n",
    "    key = cv.waitKey(1)\n",
    "    if cv.waitKey(20) & 0xFF == ord(\"k\"):\n",
    "        break\n",
    " \n",
    "cv.destroyAllWindows()\n",
    "cap.release()\n",
    "\n",
    "    \n",
    "    "
   ]
  },
  {
   "cell_type": "code",
   "execution_count": null,
   "id": "0ef112e3",
   "metadata": {},
   "outputs": [],
   "source": []
  }
 ],
 "metadata": {
  "kernelspec": {
   "display_name": "Python 3",
   "language": "python",
   "name": "python3"
  },
  "language_info": {
   "codemirror_mode": {
    "name": "ipython",
    "version": 3
   },
   "file_extension": ".py",
   "mimetype": "text/x-python",
   "name": "python",
   "nbconvert_exporter": "python",
   "pygments_lexer": "ipython3",
   "version": "3.8.8"
  },
  "varInspector": {
   "cols": {
    "lenName": 16,
    "lenType": 16,
    "lenVar": 40
   },
   "kernels_config": {
    "python": {
     "delete_cmd_postfix": "",
     "delete_cmd_prefix": "del ",
     "library": "var_list.py",
     "varRefreshCmd": "print(var_dic_list())"
    },
    "r": {
     "delete_cmd_postfix": ") ",
     "delete_cmd_prefix": "rm(",
     "library": "var_list.r",
     "varRefreshCmd": "cat(var_dic_list()) "
    }
   },
   "types_to_exclude": [
    "module",
    "function",
    "builtin_function_or_method",
    "instance",
    "_Feature"
   ],
   "window_display": false
  }
 },
 "nbformat": 4,
 "nbformat_minor": 5
}
